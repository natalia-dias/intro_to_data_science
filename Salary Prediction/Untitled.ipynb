{
 "cells": [
  {
   "cell_type": "code",
   "execution_count": 71,
   "id": "08f12ca2",
   "metadata": {},
   "outputs": [],
   "source": [
    "import numpy as np\n",
    "# from sklearn.linear_model import LinearRegression"
   ]
  },
  {
   "cell_type": "code",
   "execution_count": 72,
   "id": "316609fa",
   "metadata": {},
   "outputs": [
    {
     "name": "stdout",
     "output_type": "stream",
     "text": [
      "[[1 2 5]\n",
      " [1 3 5]\n",
      " [1 4 7]]\n",
      "[1 1 3]\n"
     ]
    }
   ],
   "source": [
    "x = np.array([[1, 2, 5], [1, 3, 5], [1, 4, 7]])\n",
    "y = np.array([1,\n",
    "              1,\n",
    "              3])\n",
    "print(x)\n",
    "print(y)"
   ]
  },
  {
   "cell_type": "code",
   "execution_count": 73,
   "id": "8c65c5cc",
   "metadata": {},
   "outputs": [
    {
     "data": {
      "text/plain": [
       "array([[1, 1, 1],\n",
       "       [2, 3, 4],\n",
       "       [5, 5, 7]])"
      ]
     },
     "execution_count": 73,
     "metadata": {},
     "output_type": "execute_result"
    }
   ],
   "source": [
    "x_transp = x.T\n",
    "x_transp"
   ]
  },
  {
   "cell_type": "code",
   "execution_count": 74,
   "id": "c4cf7061",
   "metadata": {},
   "outputs": [
    {
     "data": {
      "text/plain": [
       "array([[ 3,  9, 17],\n",
       "       [ 9, 29, 53],\n",
       "       [17, 53, 99]])"
      ]
     },
     "execution_count": 74,
     "metadata": {},
     "output_type": "execute_result"
    }
   ],
   "source": [
    "x_transp_mult = np.matmul(x_transp, x)\n",
    "x_transp_mult"
   ]
  },
  {
   "cell_type": "code",
   "execution_count": 75,
   "id": "eb829c6c",
   "metadata": {},
   "outputs": [
    {
     "data": {
      "text/plain": [
       "array([[15.5,  2.5, -4. ],\n",
       "       [ 2.5,  2. , -1.5],\n",
       "       [-4. , -1.5,  1.5]])"
      ]
     },
     "execution_count": 75,
     "metadata": {},
     "output_type": "execute_result"
    }
   ],
   "source": [
    "x_transp_mult_inv = np.linalg.inv(x_transp_mult)\n",
    "x_transp_mult_inv"
   ]
  },
  {
   "cell_type": "code",
   "execution_count": 76,
   "id": "a3f050ed",
   "metadata": {},
   "outputs": [
    {
     "data": {
      "text/plain": [
       "array([ 5, 17, 31])"
      ]
     },
     "execution_count": 76,
     "metadata": {},
     "output_type": "execute_result"
    }
   ],
   "source": [
    "left_part = np.matmul(x_transp, y)\n",
    "left_part"
   ]
  },
  {
   "cell_type": "code",
   "execution_count": 77,
   "id": "ecc90f08",
   "metadata": {},
   "outputs": [
    {
     "data": {
      "text/plain": [
       "array([-4.00000000e+00, -7.10542736e-15,  1.00000000e+00])"
      ]
     },
     "execution_count": 77,
     "metadata": {},
     "output_type": "execute_result"
    }
   ],
   "source": [
    "w = np.matmul(x_transp_mult_inv, left_part)\n",
    "w"
   ]
  },
  {
   "cell_type": "code",
   "execution_count": null,
   "id": "c8a76627",
   "metadata": {},
   "outputs": [],
   "source": []
  }
 ],
 "metadata": {
  "kernelspec": {
   "display_name": "Python 3 (ipykernel)",
   "language": "python",
   "name": "python3"
  },
  "language_info": {
   "codemirror_mode": {
    "name": "ipython",
    "version": 3
   },
   "file_extension": ".py",
   "mimetype": "text/x-python",
   "name": "python",
   "nbconvert_exporter": "python",
   "pygments_lexer": "ipython3",
   "version": "3.9.12"
  }
 },
 "nbformat": 4,
 "nbformat_minor": 5
}

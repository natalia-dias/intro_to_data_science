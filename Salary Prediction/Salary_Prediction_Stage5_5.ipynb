{
 "cells": [
  {
   "cell_type": "code",
   "execution_count": 1,
   "id": "60b2a166",
   "metadata": {},
   "outputs": [],
   "source": [
    "import pandas as pd\n",
    "import matplotlib.pyplot as plt\n",
    "from sklearn.linear_model import LinearRegression\n",
    "from sklearn.model_selection import train_test_split\n",
    "import numpy as np\n",
    "from sklearn.metrics import mean_absolute_percentage_error as mape\n",
    "%matplotlib inline"
   ]
  },
  {
   "cell_type": "code",
   "execution_count": 57,
   "id": "56d58e64",
   "metadata": {},
   "outputs": [
    {
     "data": {
      "text/html": [
       "<div>\n",
       "<style scoped>\n",
       "    .dataframe tbody tr th:only-of-type {\n",
       "        vertical-align: middle;\n",
       "    }\n",
       "\n",
       "    .dataframe tbody tr th {\n",
       "        vertical-align: top;\n",
       "    }\n",
       "\n",
       "    .dataframe thead th {\n",
       "        text-align: right;\n",
       "    }\n",
       "</style>\n",
       "<table border=\"1\" class=\"dataframe\">\n",
       "  <thead>\n",
       "    <tr style=\"text-align: right;\">\n",
       "      <th></th>\n",
       "      <th>rating</th>\n",
       "      <th>salary</th>\n",
       "      <th>draft_round</th>\n",
       "      <th>age</th>\n",
       "      <th>experience</th>\n",
       "      <th>bmi</th>\n",
       "    </tr>\n",
       "  </thead>\n",
       "  <tbody>\n",
       "    <tr>\n",
       "      <th>0</th>\n",
       "      <td>97</td>\n",
       "      <td>37436858.0</td>\n",
       "      <td>1</td>\n",
       "      <td>36</td>\n",
       "      <td>17</td>\n",
       "      <td>26.722594</td>\n",
       "    </tr>\n",
       "    <tr>\n",
       "      <th>1</th>\n",
       "      <td>97</td>\n",
       "      <td>32742000.0</td>\n",
       "      <td>1</td>\n",
       "      <td>29</td>\n",
       "      <td>9</td>\n",
       "      <td>25.271652</td>\n",
       "    </tr>\n",
       "    <tr>\n",
       "      <th>2</th>\n",
       "      <td>96</td>\n",
       "      <td>25842697.0</td>\n",
       "      <td>1</td>\n",
       "      <td>26</td>\n",
       "      <td>7</td>\n",
       "      <td>24.662519</td>\n",
       "    </tr>\n",
       "    <tr>\n",
       "      <th>3</th>\n",
       "      <td>96</td>\n",
       "      <td>37199000.0</td>\n",
       "      <td>1</td>\n",
       "      <td>32</td>\n",
       "      <td>13</td>\n",
       "      <td>24.107803</td>\n",
       "    </tr>\n",
       "    <tr>\n",
       "      <th>4</th>\n",
       "      <td>96</td>\n",
       "      <td>38199000.0</td>\n",
       "      <td>1</td>\n",
       "      <td>31</td>\n",
       "      <td>11</td>\n",
       "      <td>25.978759</td>\n",
       "    </tr>\n",
       "    <tr>\n",
       "      <th>...</th>\n",
       "      <td>...</td>\n",
       "      <td>...</td>\n",
       "      <td>...</td>\n",
       "      <td>...</td>\n",
       "      <td>...</td>\n",
       "      <td>...</td>\n",
       "    </tr>\n",
       "    <tr>\n",
       "      <th>434</th>\n",
       "      <td>95</td>\n",
       "      <td>40918900.0</td>\n",
       "      <td>1</td>\n",
       "      <td>33</td>\n",
       "      <td>14</td>\n",
       "      <td>24.107803</td>\n",
       "    </tr>\n",
       "    <tr>\n",
       "      <th>435</th>\n",
       "      <td>95</td>\n",
       "      <td>35361360.0</td>\n",
       "      <td>1</td>\n",
       "      <td>28</td>\n",
       "      <td>9</td>\n",
       "      <td>23.275703</td>\n",
       "    </tr>\n",
       "    <tr>\n",
       "      <th>436</th>\n",
       "      <td>94</td>\n",
       "      <td>10174391.0</td>\n",
       "      <td>1</td>\n",
       "      <td>22</td>\n",
       "      <td>3</td>\n",
       "      <td>25.494418</td>\n",
       "    </tr>\n",
       "    <tr>\n",
       "      <th>437</th>\n",
       "      <td>94</td>\n",
       "      <td>39344900.0</td>\n",
       "      <td>1</td>\n",
       "      <td>31</td>\n",
       "      <td>9</td>\n",
       "      <td>25.039611</td>\n",
       "    </tr>\n",
       "    <tr>\n",
       "      <th>438</th>\n",
       "      <td>91</td>\n",
       "      <td>31579390.0</td>\n",
       "      <td>1</td>\n",
       "      <td>27</td>\n",
       "      <td>7</td>\n",
       "      <td>24.995041</td>\n",
       "    </tr>\n",
       "  </tbody>\n",
       "</table>\n",
       "<p>439 rows × 6 columns</p>\n",
       "</div>"
      ],
      "text/plain": [
       "     rating      salary  draft_round  age  experience        bmi\n",
       "0        97  37436858.0            1   36          17  26.722594\n",
       "1        97  32742000.0            1   29           9  25.271652\n",
       "2        96  25842697.0            1   26           7  24.662519\n",
       "3        96  37199000.0            1   32          13  24.107803\n",
       "4        96  38199000.0            1   31          11  25.978759\n",
       "..      ...         ...          ...  ...         ...        ...\n",
       "434      95  40918900.0            1   33          14  24.107803\n",
       "435      95  35361360.0            1   28           9  23.275703\n",
       "436      94  10174391.0            1   22           3  25.494418\n",
       "437      94  39344900.0            1   31           9  25.039611\n",
       "438      91  31579390.0            1   27           7  24.995041\n",
       "\n",
       "[439 rows x 6 columns]"
      ]
     },
     "execution_count": 57,
     "metadata": {},
     "output_type": "execute_result"
    }
   ],
   "source": [
    "# read data\n",
    "data = pd.read_csv('/Users/ndias/PycharmProjects/Salary Prediction/Salary Prediction/Data/data.csv')\n",
    "data"
   ]
  },
  {
   "cell_type": "code",
   "execution_count": 3,
   "id": "c94a4198",
   "metadata": {},
   "outputs": [
    {
     "data": {
      "text/html": [
       "<div>\n",
       "<style scoped>\n",
       "    .dataframe tbody tr th:only-of-type {\n",
       "        vertical-align: middle;\n",
       "    }\n",
       "\n",
       "    .dataframe tbody tr th {\n",
       "        vertical-align: top;\n",
       "    }\n",
       "\n",
       "    .dataframe thead th {\n",
       "        text-align: right;\n",
       "    }\n",
       "</style>\n",
       "<table border=\"1\" class=\"dataframe\">\n",
       "  <thead>\n",
       "    <tr style=\"text-align: right;\">\n",
       "      <th></th>\n",
       "      <th>rating</th>\n",
       "      <th>draft_round</th>\n",
       "      <th>age</th>\n",
       "      <th>experience</th>\n",
       "      <th>bmi</th>\n",
       "    </tr>\n",
       "  </thead>\n",
       "  <tbody>\n",
       "    <tr>\n",
       "      <th>rating</th>\n",
       "      <td>1.000000</td>\n",
       "      <td>0.008064</td>\n",
       "      <td>0.292463</td>\n",
       "      <td>0.416545</td>\n",
       "      <td>0.077345</td>\n",
       "    </tr>\n",
       "    <tr>\n",
       "      <th>draft_round</th>\n",
       "      <td>0.008064</td>\n",
       "      <td>1.000000</td>\n",
       "      <td>-0.081857</td>\n",
       "      <td>-0.055498</td>\n",
       "      <td>0.047742</td>\n",
       "    </tr>\n",
       "    <tr>\n",
       "      <th>age</th>\n",
       "      <td>0.292463</td>\n",
       "      <td>-0.081857</td>\n",
       "      <td>1.000000</td>\n",
       "      <td>0.920067</td>\n",
       "      <td>0.086477</td>\n",
       "    </tr>\n",
       "    <tr>\n",
       "      <th>experience</th>\n",
       "      <td>0.416545</td>\n",
       "      <td>-0.055498</td>\n",
       "      <td>0.920067</td>\n",
       "      <td>1.000000</td>\n",
       "      <td>0.070941</td>\n",
       "    </tr>\n",
       "    <tr>\n",
       "      <th>bmi</th>\n",
       "      <td>0.077345</td>\n",
       "      <td>0.047742</td>\n",
       "      <td>0.086477</td>\n",
       "      <td>0.070941</td>\n",
       "      <td>1.000000</td>\n",
       "    </tr>\n",
       "  </tbody>\n",
       "</table>\n",
       "</div>"
      ],
      "text/plain": [
       "               rating  draft_round       age  experience       bmi\n",
       "rating       1.000000     0.008064  0.292463    0.416545  0.077345\n",
       "draft_round  0.008064     1.000000 -0.081857   -0.055498  0.047742\n",
       "age          0.292463    -0.081857  1.000000    0.920067  0.086477\n",
       "experience   0.416545    -0.055498  0.920067    1.000000  0.070941\n",
       "bmi          0.077345     0.047742  0.086477    0.070941  1.000000"
      ]
     },
     "execution_count": 3,
     "metadata": {},
     "output_type": "execute_result"
    }
   ],
   "source": [
    "corr = data.drop(columns='salary').corr(method='pearson')\n",
    "corr"
   ]
  },
  {
   "cell_type": "code",
   "execution_count": 5,
   "id": "3879226a",
   "metadata": {},
   "outputs": [
    {
     "data": {
      "image/png": "[encoded data removed]",
      "text/plain": [
       "<Figure size 504x504 with 2 Axes>"
      ]
     },
     "metadata": {
      "needs_background": "light"
     },
     "output_type": "display_data"
    }
   ],
   "source": [
    "# create a heatmap and choose a colormap\n",
    "plt.imshow(corr, cmap='coolwarm')\n",
    "\n",
    "# add a colorbar\n",
    "plt.colorbar()\n",
    "# change the graph size\n",
    "plt.gcf().set_size_inches(7, 7)\n",
    "\n",
    "# add x-ticks, y-ticks and a label\n",
    "ticks = ['rating', 'draft_round', 'age', 'experience', 'bmi']\n",
    "plt.xticks(range(len(corr.columns)), ticks, fontsize=12, rotation=90)\n",
    "plt.yticks(range(len(corr.columns)), ticks, fontsize=12)\n",
    "plt.title('Correlation of variables', fontsize=16, pad=20)\n",
    "\n",
    "# add labels to the cells\n",
    "labels = corr.values\n",
    "for a in range(labels.shape[0]):\n",
    "    for b in range(labels.shape[1]):\n",
    "        plt.text(a, b, '{:.3f}'.format(labels[b, a]), ha='center', va='center', color='black')"
   ]
  },
  {
   "cell_type": "code",
   "execution_count": 6,
   "id": "bbf6422f",
   "metadata": {},
   "outputs": [],
   "source": [
    "columns_to_drop = ['salary', 'experience', 'age']"
   ]
  },
  {
   "cell_type": "code",
   "execution_count": 7,
   "id": "69c66bbe",
   "metadata": {},
   "outputs": [],
   "source": [
    "y = data['salary']\n",
    "X = data.drop(columns=columns_to_drop)"
   ]
  },
  {
   "cell_type": "code",
   "execution_count": 8,
   "id": "8557e7de",
   "metadata": {},
   "outputs": [],
   "source": [
    "X_train, X_test, y_train, y_test = train_test_split(X, y, test_size=0.3, random_state=100)"
   ]
  },
  {
   "cell_type": "code",
   "execution_count": 9,
   "id": "629163fb",
   "metadata": {},
   "outputs": [],
   "source": [
    "model = LinearRegression()"
   ]
  },
  {
   "cell_type": "code",
   "execution_count": 10,
   "id": "c1d77a65",
   "metadata": {},
   "outputs": [
    {
     "data": {
      "text/plain": [
       "LinearRegression()"
      ]
     },
     "execution_count": 10,
     "metadata": {},
     "output_type": "execute_result"
    }
   ],
   "source": [
    "model.fit(X_train, y_train)"
   ]
  },
  {
   "cell_type": "code",
   "execution_count": 11,
   "id": "32c81a44",
   "metadata": {},
   "outputs": [],
   "source": [
    "y_pred = model.predict(X_test)"
   ]
  },
  {
   "cell_type": "code",
   "execution_count": 31,
   "id": "902b394f",
   "metadata": {},
   "outputs": [],
   "source": [
    "y_pred_df = pd.DataFrame(y_pred)"
   ]
  },
  {
   "cell_type": "code",
   "execution_count": 39,
   "id": "4a274f1a",
   "metadata": {},
   "outputs": [
    {
     "data": {
      "text/html": [
       "<div>\n",
       "<style scoped>\n",
       "    .dataframe tbody tr th:only-of-type {\n",
       "        vertical-align: middle;\n",
       "    }\n",
       "\n",
       "    .dataframe tbody tr th {\n",
       "        vertical-align: top;\n",
       "    }\n",
       "\n",
       "    .dataframe thead th {\n",
       "        text-align: right;\n",
       "    }\n",
       "</style>\n",
       "<table border=\"1\" class=\"dataframe\">\n",
       "  <thead>\n",
       "    <tr style=\"text-align: right;\">\n",
       "      <th></th>\n",
       "      <th>0</th>\n",
       "    </tr>\n",
       "  </thead>\n",
       "  <tbody>\n",
       "    <tr>\n",
       "      <th>0</th>\n",
       "      <td>9.452244e+06</td>\n",
       "    </tr>\n",
       "    <tr>\n",
       "      <th>1</th>\n",
       "      <td>4.293782e+06</td>\n",
       "    </tr>\n",
       "    <tr>\n",
       "      <th>2</th>\n",
       "      <td>1.526582e+06</td>\n",
       "    </tr>\n",
       "    <tr>\n",
       "      <th>3</th>\n",
       "      <td>4.245892e+06</td>\n",
       "    </tr>\n",
       "    <tr>\n",
       "      <th>4</th>\n",
       "      <td>6.628581e+06</td>\n",
       "    </tr>\n",
       "  </tbody>\n",
       "</table>\n",
       "</div>"
      ],
      "text/plain": [
       "              0\n",
       "0  9.452244e+06\n",
       "1  4.293782e+06\n",
       "2  1.526582e+06\n",
       "3  4.245892e+06\n",
       "4  6.628581e+06"
      ]
     },
     "execution_count": 39,
     "metadata": {},
     "output_type": "execute_result"
    }
   ],
   "source": [
    "y_pred_df.head()"
   ]
  },
  {
   "cell_type": "code",
   "execution_count": 41,
   "id": "2024d968",
   "metadata": {},
   "outputs": [],
   "source": [
    "y_pred_df['new_sal'] = 0"
   ]
  },
  {
   "cell_type": "code",
   "execution_count": 48,
   "id": "d6bbd54e",
   "metadata": {},
   "outputs": [],
   "source": [
    "y_pred_df.columns = ['old_sal', \"new_sal\"]"
   ]
  },
  {
   "cell_type": "code",
   "execution_count": 49,
   "id": "a8824a5a",
   "metadata": {},
   "outputs": [
    {
     "data": {
      "text/html": [
       "<div>\n",
       "<style scoped>\n",
       "    .dataframe tbody tr th:only-of-type {\n",
       "        vertical-align: middle;\n",
       "    }\n",
       "\n",
       "    .dataframe tbody tr th {\n",
       "        vertical-align: top;\n",
       "    }\n",
       "\n",
       "    .dataframe thead th {\n",
       "        text-align: right;\n",
       "    }\n",
       "</style>\n",
       "<table border=\"1\" class=\"dataframe\">\n",
       "  <thead>\n",
       "    <tr style=\"text-align: right;\">\n",
       "      <th></th>\n",
       "      <th>old_sal</th>\n",
       "      <th>new_sal</th>\n",
       "    </tr>\n",
       "  </thead>\n",
       "  <tbody>\n",
       "    <tr>\n",
       "      <th>0</th>\n",
       "      <td>9.452244e+06</td>\n",
       "      <td>0</td>\n",
       "    </tr>\n",
       "    <tr>\n",
       "      <th>1</th>\n",
       "      <td>4.293782e+06</td>\n",
       "      <td>0</td>\n",
       "    </tr>\n",
       "    <tr>\n",
       "      <th>2</th>\n",
       "      <td>1.526582e+06</td>\n",
       "      <td>0</td>\n",
       "    </tr>\n",
       "    <tr>\n",
       "      <th>3</th>\n",
       "      <td>4.245892e+06</td>\n",
       "      <td>0</td>\n",
       "    </tr>\n",
       "    <tr>\n",
       "      <th>4</th>\n",
       "      <td>6.628581e+06</td>\n",
       "      <td>0</td>\n",
       "    </tr>\n",
       "  </tbody>\n",
       "</table>\n",
       "</div>"
      ],
      "text/plain": [
       "        old_sal  new_sal\n",
       "0  9.452244e+06        0\n",
       "1  4.293782e+06        0\n",
       "2  1.526582e+06        0\n",
       "3  4.245892e+06        0\n",
       "4  6.628581e+06        0"
      ]
     },
     "execution_count": 49,
     "metadata": {},
     "output_type": "execute_result"
    }
   ],
   "source": [
    "y_pred_df.head()"
   ]
  },
  {
   "cell_type": "code",
   "execution_count": 52,
   "id": "7db225b4",
   "metadata": {},
   "outputs": [],
   "source": [
    "y_pred_df['new_salary'] = [0 if s < 0 else s for s in y_pred_df['old_sal']]"
   ]
  },
  {
   "cell_type": "code",
   "execution_count": 54,
   "id": "086403ab",
   "metadata": {},
   "outputs": [
    {
     "data": {
      "text/html": [
       "<div>\n",
       "<style scoped>\n",
       "    .dataframe tbody tr th:only-of-type {\n",
       "        vertical-align: middle;\n",
       "    }\n",
       "\n",
       "    .dataframe tbody tr th {\n",
       "        vertical-align: top;\n",
       "    }\n",
       "\n",
       "    .dataframe thead th {\n",
       "        text-align: right;\n",
       "    }\n",
       "</style>\n",
       "<table border=\"1\" class=\"dataframe\">\n",
       "  <thead>\n",
       "    <tr style=\"text-align: right;\">\n",
       "      <th></th>\n",
       "      <th>old_sal</th>\n",
       "      <th>new_sal</th>\n",
       "      <th>new_salary</th>\n",
       "    </tr>\n",
       "  </thead>\n",
       "  <tbody>\n",
       "    <tr>\n",
       "      <th>28</th>\n",
       "      <td>-2.526169e+04</td>\n",
       "      <td>0</td>\n",
       "      <td>0.0</td>\n",
       "    </tr>\n",
       "    <tr>\n",
       "      <th>42</th>\n",
       "      <td>-1.140169e+05</td>\n",
       "      <td>0</td>\n",
       "      <td>0.0</td>\n",
       "    </tr>\n",
       "    <tr>\n",
       "      <th>49</th>\n",
       "      <td>-1.059489e+06</td>\n",
       "      <td>0</td>\n",
       "      <td>0.0</td>\n",
       "    </tr>\n",
       "    <tr>\n",
       "      <th>58</th>\n",
       "      <td>-1.202506e+06</td>\n",
       "      <td>0</td>\n",
       "      <td>0.0</td>\n",
       "    </tr>\n",
       "    <tr>\n",
       "      <th>67</th>\n",
       "      <td>-2.236889e+06</td>\n",
       "      <td>0</td>\n",
       "      <td>0.0</td>\n",
       "    </tr>\n",
       "    <tr>\n",
       "      <th>79</th>\n",
       "      <td>-1.123218e+06</td>\n",
       "      <td>0</td>\n",
       "      <td>0.0</td>\n",
       "    </tr>\n",
       "    <tr>\n",
       "      <th>102</th>\n",
       "      <td>-1.068199e+06</td>\n",
       "      <td>0</td>\n",
       "      <td>0.0</td>\n",
       "    </tr>\n",
       "    <tr>\n",
       "      <th>103</th>\n",
       "      <td>-1.209347e+06</td>\n",
       "      <td>0</td>\n",
       "      <td>0.0</td>\n",
       "    </tr>\n",
       "    <tr>\n",
       "      <th>117</th>\n",
       "      <td>-1.113410e+06</td>\n",
       "      <td>0</td>\n",
       "      <td>0.0</td>\n",
       "    </tr>\n",
       "    <tr>\n",
       "      <th>129</th>\n",
       "      <td>-1.186944e+06</td>\n",
       "      <td>0</td>\n",
       "      <td>0.0</td>\n",
       "    </tr>\n",
       "  </tbody>\n",
       "</table>\n",
       "</div>"
      ],
      "text/plain": [
       "          old_sal  new_sal  new_salary\n",
       "28  -2.526169e+04        0         0.0\n",
       "42  -1.140169e+05        0         0.0\n",
       "49  -1.059489e+06        0         0.0\n",
       "58  -1.202506e+06        0         0.0\n",
       "67  -2.236889e+06        0         0.0\n",
       "79  -1.123218e+06        0         0.0\n",
       "102 -1.068199e+06        0         0.0\n",
       "103 -1.209347e+06        0         0.0\n",
       "117 -1.113410e+06        0         0.0\n",
       "129 -1.186944e+06        0         0.0"
      ]
     },
     "execution_count": 54,
     "metadata": {},
     "output_type": "execute_result"
    }
   ],
   "source": [
    "y_pred_df[y_pred_df.new_salary == 0]"
   ]
  },
  {
   "cell_type": "code",
   "execution_count": 63,
   "id": "fcdc15d7",
   "metadata": {},
   "outputs": [],
   "source": [
    "def dealing_with_negative_salary(data_x):\n",
    "    data_copy = data_x.copy()\n",
    "    columns_to_drop = ['salary', 'experience', 'age']\n",
    "    y = data_copy['salary']\n",
    "    X = data_copy.drop(columns=columns_to_drop)\n",
    "    X_train, X_test, y_train, y_test = train_test_split(X, y, test_size=0.3, random_state=100)\n",
    "    model = LinearRegression()\n",
    "    model.fit(X_train, y_train)\n",
    "    y_pred = model.predict(X_test)\n",
    "    y_mean = y_train.mean()\n",
    "    y_pred_df = pd.DataFrame(y_pred)\n",
    "    y_pred_df.columns = ['old_sal']\n",
    "    y_pred_df['new_salary'] = [0 if s < 0 else s for s in y_pred_df['old_sal']]\n",
    "    y_drop_col = ['old_sal']\n",
    "    y_pred_df.drop(columns=y_drop_col)\n",
    "    mape_score = mape(y_test, y_pred_df['new_salary'])\n",
    "    print(round(mape_score, 5))\n",
    "    \n",
    "    y_pred_df['mean'] = [y_mean if s < 0 else s for s in y_pred_df['old_sal']]\n",
    "    mape_score = mape(y_test, y_pred_df['mean'])\n",
    "    print(round(mape_score, 5))"
   ]
  },
  {
   "cell_type": "code",
   "execution_count": 64,
   "id": "7bdc2e76",
   "metadata": {},
   "outputs": [
    {
     "name": "stdout",
     "output_type": "stream",
     "text": [
      "0.94701\n",
      "3.03908\n"
     ]
    }
   ],
   "source": [
    "dealing_with_negative_salary(data)"
   ]
  },
  {
   "cell_type": "code",
   "execution_count": null,
   "id": "4b6a6408",
   "metadata": {},
   "outputs": [],
   "source": []
  }
 ],
 "metadata": {
  "kernelspec": {
   "display_name": "Python 3 (ipykernel)",
   "language": "python",
   "name": "python3"
  },
  "language_info": {
   "codemirror_mode": {
    "name": "ipython",
    "version": 3
   },
   "file_extension": ".py",
   "mimetype": "text/x-python",
   "name": "python",
   "nbconvert_exporter": "python",
   "pygments_lexer": "ipython3",
   "version": "3.9.12"
  }
 },
 "nbformat": 4,
 "nbformat_minor": 5
}
